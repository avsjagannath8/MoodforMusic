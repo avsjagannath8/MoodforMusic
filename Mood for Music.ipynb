{
 "cells": [
  {
   "cell_type": "markdown",
   "id": "bd9c6dc7",
   "metadata": {},
   "source": [
    "# Problem Statement\n",
    "The objective of this project is to build an application that detects the mood of users using still images or videos and recommends music accordingly. The system will use image or video analysis to infer the user's mood and provide personalized music recommendations to enhance their emotional experience."
   ]
  },
  {
   "cell_type": "markdown",
   "id": "c7f57e01",
   "metadata": {},
   "source": [
    "# Importing Required Libraries"
   ]
  },
  {
   "cell_type": "code",
   "execution_count": 1,
   "id": "5876da30",
   "metadata": {},
   "outputs": [
    {
     "name": "stdout",
     "output_type": "stream",
     "text": [
      "WARNING:tensorflow:From C:\\Users\\saija\\anaconda3\\Lib\\site-packages\\keras\\src\\losses.py:2976: The name tf.losses.sparse_softmax_cross_entropy is deprecated. Please use tf.compat.v1.losses.sparse_softmax_cross_entropy instead.\n",
      "\n"
     ]
    }
   ],
   "source": [
    "import pandas as pd\n",
    "import os\n",
    "import glob as gb\n",
    "from tensorflow import keras\n",
    "\n",
    "from keras.models import Sequential\n",
    "from keras.layers import Conv2D\n",
    "from keras.layers import MaxPooling2D\n",
    "from keras.layers import Flatten\n",
    "from keras.layers import Dense"
   ]
  },
  {
   "cell_type": "markdown",
   "id": "8e406fae",
   "metadata": {},
   "source": [
    "# Part 1 Data Preparing for Music Recommendation"
   ]
  },
  {
   "cell_type": "markdown",
   "id": "2838fb56",
   "metadata": {},
   "source": [
    "## Loading Data"
   ]
  },
  {
   "cell_type": "code",
   "execution_count": 2,
   "id": "ff4bed99",
   "metadata": {},
   "outputs": [],
   "source": [
    "df = pd.read_csv(\"data_moods.csv\")"
   ]
  },
  {
   "cell_type": "markdown",
   "id": "af695ad7",
   "metadata": {},
   "source": [
    "## Exploratory Data Analysis (EDA)"
   ]
  },
  {
   "cell_type": "code",
   "execution_count": 3,
   "id": "1eea7bdd",
   "metadata": {},
   "outputs": [
    {
     "data": {
      "text/html": [
       "<div>\n",
       "<style scoped>\n",
       "    .dataframe tbody tr th:only-of-type {\n",
       "        vertical-align: middle;\n",
       "    }\n",
       "\n",
       "    .dataframe tbody tr th {\n",
       "        vertical-align: top;\n",
       "    }\n",
       "\n",
       "    .dataframe thead th {\n",
       "        text-align: right;\n",
       "    }\n",
       "</style>\n",
       "<table border=\"1\" class=\"dataframe\">\n",
       "  <thead>\n",
       "    <tr style=\"text-align: right;\">\n",
       "      <th></th>\n",
       "      <th>name</th>\n",
       "      <th>album</th>\n",
       "      <th>artist</th>\n",
       "      <th>id</th>\n",
       "      <th>release_date</th>\n",
       "      <th>popularity</th>\n",
       "      <th>length</th>\n",
       "      <th>danceability</th>\n",
       "      <th>acousticness</th>\n",
       "      <th>energy</th>\n",
       "      <th>instrumentalness</th>\n",
       "      <th>liveness</th>\n",
       "      <th>valence</th>\n",
       "      <th>loudness</th>\n",
       "      <th>speechiness</th>\n",
       "      <th>tempo</th>\n",
       "      <th>key</th>\n",
       "      <th>time_signature</th>\n",
       "      <th>mood</th>\n",
       "    </tr>\n",
       "  </thead>\n",
       "  <tbody>\n",
       "    <tr>\n",
       "      <th>0</th>\n",
       "      <td>1999</td>\n",
       "      <td>1999</td>\n",
       "      <td>Prince</td>\n",
       "      <td>2H7PHVdQ3mXqEHXcvclTB0</td>\n",
       "      <td>1982-10-27</td>\n",
       "      <td>68</td>\n",
       "      <td>379266</td>\n",
       "      <td>0.866</td>\n",
       "      <td>0.13700</td>\n",
       "      <td>0.730</td>\n",
       "      <td>0.000000</td>\n",
       "      <td>0.0843</td>\n",
       "      <td>0.625</td>\n",
       "      <td>-8.201</td>\n",
       "      <td>0.0767</td>\n",
       "      <td>118.523</td>\n",
       "      <td>5</td>\n",
       "      <td>4</td>\n",
       "      <td>Happy</td>\n",
       "    </tr>\n",
       "    <tr>\n",
       "      <th>1</th>\n",
       "      <td>23</td>\n",
       "      <td>23</td>\n",
       "      <td>Blonde Redhead</td>\n",
       "      <td>4HIwL9ii9CcXpTOTzMq0MP</td>\n",
       "      <td>2007-04-16</td>\n",
       "      <td>43</td>\n",
       "      <td>318800</td>\n",
       "      <td>0.381</td>\n",
       "      <td>0.01890</td>\n",
       "      <td>0.832</td>\n",
       "      <td>0.196000</td>\n",
       "      <td>0.1530</td>\n",
       "      <td>0.166</td>\n",
       "      <td>-5.069</td>\n",
       "      <td>0.0492</td>\n",
       "      <td>120.255</td>\n",
       "      <td>8</td>\n",
       "      <td>4</td>\n",
       "      <td>Sad</td>\n",
       "    </tr>\n",
       "    <tr>\n",
       "      <th>2</th>\n",
       "      <td>9 Crimes</td>\n",
       "      <td>9</td>\n",
       "      <td>Damien Rice</td>\n",
       "      <td>5GZEeowhvSieFDiR8fQ2im</td>\n",
       "      <td>2006-11-06</td>\n",
       "      <td>60</td>\n",
       "      <td>217946</td>\n",
       "      <td>0.346</td>\n",
       "      <td>0.91300</td>\n",
       "      <td>0.139</td>\n",
       "      <td>0.000077</td>\n",
       "      <td>0.0934</td>\n",
       "      <td>0.116</td>\n",
       "      <td>-15.326</td>\n",
       "      <td>0.0321</td>\n",
       "      <td>136.168</td>\n",
       "      <td>0</td>\n",
       "      <td>4</td>\n",
       "      <td>Sad</td>\n",
       "    </tr>\n",
       "    <tr>\n",
       "      <th>3</th>\n",
       "      <td>99 Luftballons</td>\n",
       "      <td>99 Luftballons</td>\n",
       "      <td>Nena</td>\n",
       "      <td>6HA97v4wEGQ5TUClRM0XLc</td>\n",
       "      <td>1984-08-21</td>\n",
       "      <td>2</td>\n",
       "      <td>233000</td>\n",
       "      <td>0.466</td>\n",
       "      <td>0.08900</td>\n",
       "      <td>0.438</td>\n",
       "      <td>0.000006</td>\n",
       "      <td>0.1130</td>\n",
       "      <td>0.587</td>\n",
       "      <td>-12.858</td>\n",
       "      <td>0.0608</td>\n",
       "      <td>193.100</td>\n",
       "      <td>4</td>\n",
       "      <td>4</td>\n",
       "      <td>Happy</td>\n",
       "    </tr>\n",
       "    <tr>\n",
       "      <th>4</th>\n",
       "      <td>A Boy Brushed Red Living In Black And White</td>\n",
       "      <td>They're Only Chasing Safety</td>\n",
       "      <td>Underoath</td>\n",
       "      <td>47IWLfIKOKhFnz1FUEUIkE</td>\n",
       "      <td>2004-01-01</td>\n",
       "      <td>60</td>\n",
       "      <td>268000</td>\n",
       "      <td>0.419</td>\n",
       "      <td>0.00171</td>\n",
       "      <td>0.932</td>\n",
       "      <td>0.000000</td>\n",
       "      <td>0.1370</td>\n",
       "      <td>0.445</td>\n",
       "      <td>-3.604</td>\n",
       "      <td>0.1060</td>\n",
       "      <td>169.881</td>\n",
       "      <td>1</td>\n",
       "      <td>4</td>\n",
       "      <td>Energetic</td>\n",
       "    </tr>\n",
       "  </tbody>\n",
       "</table>\n",
       "</div>"
      ],
      "text/plain": [
       "                                          name                        album  \\\n",
       "0                                         1999                         1999   \n",
       "1                                           23                           23   \n",
       "2                                     9 Crimes                            9   \n",
       "3                               99 Luftballons               99 Luftballons   \n",
       "4  A Boy Brushed Red Living In Black And White  They're Only Chasing Safety   \n",
       "\n",
       "           artist                      id release_date  popularity  length  \\\n",
       "0          Prince  2H7PHVdQ3mXqEHXcvclTB0   1982-10-27          68  379266   \n",
       "1  Blonde Redhead  4HIwL9ii9CcXpTOTzMq0MP   2007-04-16          43  318800   \n",
       "2     Damien Rice  5GZEeowhvSieFDiR8fQ2im   2006-11-06          60  217946   \n",
       "3            Nena  6HA97v4wEGQ5TUClRM0XLc   1984-08-21           2  233000   \n",
       "4       Underoath  47IWLfIKOKhFnz1FUEUIkE   2004-01-01          60  268000   \n",
       "\n",
       "   danceability  acousticness  energy  instrumentalness  liveness  valence  \\\n",
       "0         0.866       0.13700   0.730          0.000000    0.0843    0.625   \n",
       "1         0.381       0.01890   0.832          0.196000    0.1530    0.166   \n",
       "2         0.346       0.91300   0.139          0.000077    0.0934    0.116   \n",
       "3         0.466       0.08900   0.438          0.000006    0.1130    0.587   \n",
       "4         0.419       0.00171   0.932          0.000000    0.1370    0.445   \n",
       "\n",
       "   loudness  speechiness    tempo  key  time_signature       mood  \n",
       "0    -8.201       0.0767  118.523    5               4      Happy  \n",
       "1    -5.069       0.0492  120.255    8               4        Sad  \n",
       "2   -15.326       0.0321  136.168    0               4        Sad  \n",
       "3   -12.858       0.0608  193.100    4               4      Happy  \n",
       "4    -3.604       0.1060  169.881    1               4  Energetic  "
      ]
     },
     "execution_count": 3,
     "metadata": {},
     "output_type": "execute_result"
    }
   ],
   "source": [
    "df.head()"
   ]
  },
  {
   "cell_type": "code",
   "execution_count": 4,
   "id": "a84af78b",
   "metadata": {},
   "outputs": [
    {
     "data": {
      "text/html": [
       "<div>\n",
       "<style scoped>\n",
       "    .dataframe tbody tr th:only-of-type {\n",
       "        vertical-align: middle;\n",
       "    }\n",
       "\n",
       "    .dataframe tbody tr th {\n",
       "        vertical-align: top;\n",
       "    }\n",
       "\n",
       "    .dataframe thead th {\n",
       "        text-align: right;\n",
       "    }\n",
       "</style>\n",
       "<table border=\"1\" class=\"dataframe\">\n",
       "  <thead>\n",
       "    <tr style=\"text-align: right;\">\n",
       "      <th></th>\n",
       "      <th>name</th>\n",
       "      <th>album</th>\n",
       "      <th>artist</th>\n",
       "      <th>id</th>\n",
       "      <th>release_date</th>\n",
       "      <th>popularity</th>\n",
       "      <th>length</th>\n",
       "      <th>danceability</th>\n",
       "      <th>acousticness</th>\n",
       "      <th>energy</th>\n",
       "      <th>instrumentalness</th>\n",
       "      <th>liveness</th>\n",
       "      <th>valence</th>\n",
       "      <th>loudness</th>\n",
       "      <th>speechiness</th>\n",
       "      <th>tempo</th>\n",
       "      <th>key</th>\n",
       "      <th>time_signature</th>\n",
       "      <th>mood</th>\n",
       "    </tr>\n",
       "  </thead>\n",
       "  <tbody>\n",
       "    <tr>\n",
       "      <th>681</th>\n",
       "      <td>windcatcher</td>\n",
       "      <td>windcatcher</td>\n",
       "      <td>Leo Nocta</td>\n",
       "      <td>59VApBbrS2IADQk4ml5mdo</td>\n",
       "      <td>2020-06-19</td>\n",
       "      <td>36</td>\n",
       "      <td>123066</td>\n",
       "      <td>0.402</td>\n",
       "      <td>0.961</td>\n",
       "      <td>0.2360</td>\n",
       "      <td>0.919000</td>\n",
       "      <td>0.0921</td>\n",
       "      <td>0.1460</td>\n",
       "      <td>-20.615</td>\n",
       "      <td>0.0603</td>\n",
       "      <td>129.736</td>\n",
       "      <td>0</td>\n",
       "      <td>3</td>\n",
       "      <td>Calm</td>\n",
       "    </tr>\n",
       "    <tr>\n",
       "      <th>682</th>\n",
       "      <td>yellow is the color of her eyes</td>\n",
       "      <td>yellow is the color of her eyes</td>\n",
       "      <td>Soccer Mommy</td>\n",
       "      <td>4D3nttJPU6L0M2epr7sId6</td>\n",
       "      <td>2019-11-19</td>\n",
       "      <td>5</td>\n",
       "      <td>435080</td>\n",
       "      <td>0.452</td>\n",
       "      <td>0.757</td>\n",
       "      <td>0.5150</td>\n",
       "      <td>0.120000</td>\n",
       "      <td>0.1400</td>\n",
       "      <td>0.1910</td>\n",
       "      <td>-7.351</td>\n",
       "      <td>0.0255</td>\n",
       "      <td>80.537</td>\n",
       "      <td>11</td>\n",
       "      <td>4</td>\n",
       "      <td>Sad</td>\n",
       "    </tr>\n",
       "    <tr>\n",
       "      <th>683</th>\n",
       "      <td>you broke me first</td>\n",
       "      <td>you broke me first</td>\n",
       "      <td>Tate McRae</td>\n",
       "      <td>45bE4HXI0AwGZXfZtMp8JR</td>\n",
       "      <td>2020-04-17</td>\n",
       "      <td>87</td>\n",
       "      <td>169265</td>\n",
       "      <td>0.642</td>\n",
       "      <td>0.786</td>\n",
       "      <td>0.3740</td>\n",
       "      <td>0.000000</td>\n",
       "      <td>0.0906</td>\n",
       "      <td>0.0799</td>\n",
       "      <td>-9.386</td>\n",
       "      <td>0.0545</td>\n",
       "      <td>124.099</td>\n",
       "      <td>4</td>\n",
       "      <td>4</td>\n",
       "      <td>Sad</td>\n",
       "    </tr>\n",
       "    <tr>\n",
       "      <th>684</th>\n",
       "      <td>you were good to me</td>\n",
       "      <td>brent</td>\n",
       "      <td>Jeremy Zucker</td>\n",
       "      <td>4CxFN5zON70B3VOPBYbd6P</td>\n",
       "      <td>2019-05-03</td>\n",
       "      <td>76</td>\n",
       "      <td>219146</td>\n",
       "      <td>0.561</td>\n",
       "      <td>0.913</td>\n",
       "      <td>0.0848</td>\n",
       "      <td>0.000026</td>\n",
       "      <td>0.1120</td>\n",
       "      <td>0.2060</td>\n",
       "      <td>-15.099</td>\n",
       "      <td>0.0404</td>\n",
       "      <td>102.128</td>\n",
       "      <td>2</td>\n",
       "      <td>4</td>\n",
       "      <td>Sad</td>\n",
       "    </tr>\n",
       "    <tr>\n",
       "      <th>685</th>\n",
       "      <td>æfre</td>\n",
       "      <td>æfre</td>\n",
       "      <td>praam</td>\n",
       "      <td>2irbT1BSYaIEF44PlyKaoM</td>\n",
       "      <td>2020-07-17</td>\n",
       "      <td>41</td>\n",
       "      <td>186331</td>\n",
       "      <td>0.377</td>\n",
       "      <td>0.994</td>\n",
       "      <td>0.0156</td>\n",
       "      <td>0.881000</td>\n",
       "      <td>0.0991</td>\n",
       "      <td>0.0804</td>\n",
       "      <td>-28.435</td>\n",
       "      <td>0.0397</td>\n",
       "      <td>140.179</td>\n",
       "      <td>0</td>\n",
       "      <td>4</td>\n",
       "      <td>Calm</td>\n",
       "    </tr>\n",
       "  </tbody>\n",
       "</table>\n",
       "</div>"
      ],
      "text/plain": [
       "                                name                            album  \\\n",
       "681                      windcatcher                      windcatcher   \n",
       "682  yellow is the color of her eyes  yellow is the color of her eyes   \n",
       "683               you broke me first               you broke me first   \n",
       "684              you were good to me                            brent   \n",
       "685                             æfre                             æfre   \n",
       "\n",
       "            artist                      id release_date  popularity  length  \\\n",
       "681      Leo Nocta  59VApBbrS2IADQk4ml5mdo   2020-06-19          36  123066   \n",
       "682   Soccer Mommy  4D3nttJPU6L0M2epr7sId6   2019-11-19           5  435080   \n",
       "683     Tate McRae  45bE4HXI0AwGZXfZtMp8JR   2020-04-17          87  169265   \n",
       "684  Jeremy Zucker  4CxFN5zON70B3VOPBYbd6P   2019-05-03          76  219146   \n",
       "685          praam  2irbT1BSYaIEF44PlyKaoM   2020-07-17          41  186331   \n",
       "\n",
       "     danceability  acousticness  energy  instrumentalness  liveness  valence  \\\n",
       "681         0.402         0.961  0.2360          0.919000    0.0921   0.1460   \n",
       "682         0.452         0.757  0.5150          0.120000    0.1400   0.1910   \n",
       "683         0.642         0.786  0.3740          0.000000    0.0906   0.0799   \n",
       "684         0.561         0.913  0.0848          0.000026    0.1120   0.2060   \n",
       "685         0.377         0.994  0.0156          0.881000    0.0991   0.0804   \n",
       "\n",
       "     loudness  speechiness    tempo  key  time_signature  mood  \n",
       "681   -20.615       0.0603  129.736    0               3  Calm  \n",
       "682    -7.351       0.0255   80.537   11               4   Sad  \n",
       "683    -9.386       0.0545  124.099    4               4   Sad  \n",
       "684   -15.099       0.0404  102.128    2               4   Sad  \n",
       "685   -28.435       0.0397  140.179    0               4  Calm  "
      ]
     },
     "execution_count": 4,
     "metadata": {},
     "output_type": "execute_result"
    }
   ],
   "source": [
    "df.tail()"
   ]
  },
  {
   "cell_type": "code",
   "execution_count": 5,
   "id": "7bfc075d",
   "metadata": {},
   "outputs": [
    {
     "name": "stdout",
     "output_type": "stream",
     "text": [
      "<class 'pandas.core.frame.DataFrame'>\n",
      "RangeIndex: 686 entries, 0 to 685\n",
      "Data columns (total 19 columns):\n",
      " #   Column            Non-Null Count  Dtype  \n",
      "---  ------            --------------  -----  \n",
      " 0   name              686 non-null    object \n",
      " 1   album             686 non-null    object \n",
      " 2   artist            686 non-null    object \n",
      " 3   id                686 non-null    object \n",
      " 4   release_date      686 non-null    object \n",
      " 5   popularity        686 non-null    int64  \n",
      " 6   length            686 non-null    int64  \n",
      " 7   danceability      686 non-null    float64\n",
      " 8   acousticness      686 non-null    float64\n",
      " 9   energy            686 non-null    float64\n",
      " 10  instrumentalness  686 non-null    float64\n",
      " 11  liveness          686 non-null    float64\n",
      " 12  valence           686 non-null    float64\n",
      " 13  loudness          686 non-null    float64\n",
      " 14  speechiness       686 non-null    float64\n",
      " 15  tempo             686 non-null    float64\n",
      " 16  key               686 non-null    int64  \n",
      " 17  time_signature    686 non-null    int64  \n",
      " 18  mood              686 non-null    object \n",
      "dtypes: float64(9), int64(4), object(6)\n",
      "memory usage: 102.0+ KB\n"
     ]
    }
   ],
   "source": [
    "df.info()"
   ]
  },
  {
   "cell_type": "code",
   "execution_count": 6,
   "id": "5b24cd82",
   "metadata": {},
   "outputs": [
    {
     "name": "stdout",
     "output_type": "stream",
     "text": [
      "       popularity         length  danceability  acousticness      energy  \\\n",
      "count  686.000000     686.000000    686.000000    686.000000  686.000000   \n",
      "mean    41.534985  221791.485423      0.500553      0.449749    0.507693   \n",
      "std     23.045707   63399.058492      0.158955      0.410729    0.326490   \n",
      "min      0.000000   76773.000000      0.078900      0.000005    0.001290   \n",
      "25%     30.000000  179114.500000      0.388000      0.014825    0.202000   \n",
      "50%     47.000000  213273.000000      0.505000      0.359000    0.495500   \n",
      "75%     57.000000  254569.750000      0.612000      0.905750    0.844000   \n",
      "max     88.000000  518373.000000      0.941000      0.996000    0.994000   \n",
      "\n",
      "       instrumentalness    liveness     valence    loudness  speechiness  \\\n",
      "count        686.000000  686.000000  686.000000  686.000000   686.000000   \n",
      "mean           0.349610    0.166867    0.342438  -11.531020     0.053946   \n",
      "std            0.410517    0.142128    0.252304    7.468629     0.041374   \n",
      "min            0.000000    0.031800    0.035300  -42.018000     0.023200   \n",
      "25%            0.000034    0.092500    0.131250  -15.858750     0.033200   \n",
      "50%            0.026350    0.111000    0.282000   -9.358000     0.040700   \n",
      "75%            0.858250    0.173750    0.508750   -5.634500     0.057375   \n",
      "max            0.966000    0.963000    0.977000    1.342000     0.416000   \n",
      "\n",
      "            tempo         key  time_signature  \n",
      "count  686.000000  686.000000      686.000000  \n",
      "mean   119.134679    5.335277        3.870262  \n",
      "std     28.978685    3.550858        0.500297  \n",
      "min     50.960000    0.000000        1.000000  \n",
      "25%     99.008750    2.000000        4.000000  \n",
      "50%    120.071000    6.000000        4.000000  \n",
      "75%    132.953250    9.000000        4.000000  \n",
      "max    217.950000   11.000000        5.000000  \n"
     ]
    }
   ],
   "source": [
    "print(df.describe())"
   ]
  },
  {
   "cell_type": "markdown",
   "id": "b6138cea",
   "metadata": {},
   "source": [
    "## Splitting Data into Training and Testing Sets using scikit-learn"
   ]
  },
  {
   "cell_type": "code",
   "execution_count": 7,
   "id": "4aaa3d54",
   "metadata": {},
   "outputs": [],
   "source": [
    "from sklearn.model_selection import train_test_split\n",
    "\n",
    "# Assuming df is your DataFrame containing the music features and mood labels\n",
    "X = df.drop(columns=['name', 'album', 'artist', 'id', 'release_date', 'mood'])\n",
    "y = df['mood']\n",
    "\n",
    "X_train, X_test, y_train, y_test = train_test_split(X, y, test_size=0.2, random_state=42)"
   ]
  },
  {
   "cell_type": "markdown",
   "id": "1746dc1b",
   "metadata": {},
   "source": [
    " ## Finding the Best Hyperparameters"
   ]
  },
  {
   "cell_type": "code",
   "execution_count": 8,
   "id": "05625183",
   "metadata": {},
   "outputs": [
    {
     "name": "stdout",
     "output_type": "stream",
     "text": [
      "Accuracy of the best model: 0.7971014492753623\n",
      "Best hyperparameters: {'max_depth': None, 'min_samples_split': 2, 'n_estimators': 100}\n"
     ]
    }
   ],
   "source": [
    "from sklearn.ensemble import RandomForestClassifier\n",
    "from sklearn.model_selection import GridSearchCV\n",
    "from sklearn.metrics import accuracy_score\n",
    "\n",
    "# Initialize the Random Forest classifier\n",
    "model = RandomForestClassifier(random_state=42)\n",
    "\n",
    "# Define hyperparameters to tune\n",
    "param_grid = {\n",
    "    'n_estimators': [100, 200, 300],\n",
    "    'max_depth': [None, 10, 20],\n",
    "    'min_samples_split': [2, 5, 10]\n",
    "}\n",
    "\n",
    "# Perform grid search to find the best hyperparameters\n",
    "grid_search = GridSearchCV(estimator=model, param_grid=param_grid, cv=5)\n",
    "grid_search.fit(X_train, y_train)\n",
    "\n",
    "# Get the best model\n",
    "best_model = grid_search.best_estimator_\n",
    "\n",
    "# Access the best model from the grid search\n",
    "best_model = grid_search.best_estimator_\n",
    "\n",
    "# Now, you can use this best_model for making predictions or further analysis\n",
    "# For example:\n",
    "y_pred = best_model.predict(X_test)\n",
    "\n",
    "# Evaluate the model performance\n",
    "accuracy = accuracy_score(y_test, y_pred)\n",
    "print(\"Accuracy of the best model:\", accuracy)\n",
    "\n",
    "# You can also access the best hyperparameters found during the grid search\n",
    "best_params = grid_search.best_params_\n",
    "print(\"Best hyperparameters:\", best_params)\n"
   ]
  },
  {
   "cell_type": "markdown",
   "id": "0dda8865",
   "metadata": {},
   "source": [
    "After conducting a hyperparameter grid search, we found that the Random Forest Classifier emerged as the best model for our music recommendation system. With the optimal hyperparameters selected, the model achieved an accuracy of 0.79 on the test dataset. This accuracy level indicates a promising performance of the model in predicting music moods for recommendation purposes."
   ]
  },
  {
   "cell_type": "code",
   "execution_count": 9,
   "id": "8630b699",
   "metadata": {},
   "outputs": [
    {
     "data": {
      "text/html": [
       "<style>#sk-container-id-1 {color: black;}#sk-container-id-1 pre{padding: 0;}#sk-container-id-1 div.sk-toggleable {background-color: white;}#sk-container-id-1 label.sk-toggleable__label {cursor: pointer;display: block;width: 100%;margin-bottom: 0;padding: 0.3em;box-sizing: border-box;text-align: center;}#sk-container-id-1 label.sk-toggleable__label-arrow:before {content: \"▸\";float: left;margin-right: 0.25em;color: #696969;}#sk-container-id-1 label.sk-toggleable__label-arrow:hover:before {color: black;}#sk-container-id-1 div.sk-estimator:hover label.sk-toggleable__label-arrow:before {color: black;}#sk-container-id-1 div.sk-toggleable__content {max-height: 0;max-width: 0;overflow: hidden;text-align: left;background-color: #f0f8ff;}#sk-container-id-1 div.sk-toggleable__content pre {margin: 0.2em;color: black;border-radius: 0.25em;background-color: #f0f8ff;}#sk-container-id-1 input.sk-toggleable__control:checked~div.sk-toggleable__content {max-height: 200px;max-width: 100%;overflow: auto;}#sk-container-id-1 input.sk-toggleable__control:checked~label.sk-toggleable__label-arrow:before {content: \"▾\";}#sk-container-id-1 div.sk-estimator input.sk-toggleable__control:checked~label.sk-toggleable__label {background-color: #d4ebff;}#sk-container-id-1 div.sk-label input.sk-toggleable__control:checked~label.sk-toggleable__label {background-color: #d4ebff;}#sk-container-id-1 input.sk-hidden--visually {border: 0;clip: rect(1px 1px 1px 1px);clip: rect(1px, 1px, 1px, 1px);height: 1px;margin: -1px;overflow: hidden;padding: 0;position: absolute;width: 1px;}#sk-container-id-1 div.sk-estimator {font-family: monospace;background-color: #f0f8ff;border: 1px dotted black;border-radius: 0.25em;box-sizing: border-box;margin-bottom: 0.5em;}#sk-container-id-1 div.sk-estimator:hover {background-color: #d4ebff;}#sk-container-id-1 div.sk-parallel-item::after {content: \"\";width: 100%;border-bottom: 1px solid gray;flex-grow: 1;}#sk-container-id-1 div.sk-label:hover label.sk-toggleable__label {background-color: #d4ebff;}#sk-container-id-1 div.sk-serial::before {content: \"\";position: absolute;border-left: 1px solid gray;box-sizing: border-box;top: 0;bottom: 0;left: 50%;z-index: 0;}#sk-container-id-1 div.sk-serial {display: flex;flex-direction: column;align-items: center;background-color: white;padding-right: 0.2em;padding-left: 0.2em;position: relative;}#sk-container-id-1 div.sk-item {position: relative;z-index: 1;}#sk-container-id-1 div.sk-parallel {display: flex;align-items: stretch;justify-content: center;background-color: white;position: relative;}#sk-container-id-1 div.sk-item::before, #sk-container-id-1 div.sk-parallel-item::before {content: \"\";position: absolute;border-left: 1px solid gray;box-sizing: border-box;top: 0;bottom: 0;left: 50%;z-index: -1;}#sk-container-id-1 div.sk-parallel-item {display: flex;flex-direction: column;z-index: 1;position: relative;background-color: white;}#sk-container-id-1 div.sk-parallel-item:first-child::after {align-self: flex-end;width: 50%;}#sk-container-id-1 div.sk-parallel-item:last-child::after {align-self: flex-start;width: 50%;}#sk-container-id-1 div.sk-parallel-item:only-child::after {width: 0;}#sk-container-id-1 div.sk-dashed-wrapped {border: 1px dashed gray;margin: 0 0.4em 0.5em 0.4em;box-sizing: border-box;padding-bottom: 0.4em;background-color: white;}#sk-container-id-1 div.sk-label label {font-family: monospace;font-weight: bold;display: inline-block;line-height: 1.2em;}#sk-container-id-1 div.sk-label-container {text-align: center;}#sk-container-id-1 div.sk-container {/* jupyter's `normalize.less` sets `[hidden] { display: none; }` but bootstrap.min.css set `[hidden] { display: none !important; }` so we also need the `!important` here to be able to override the default hidden behavior on the sphinx rendered scikit-learn.org. See: https://github.com/scikit-learn/scikit-learn/issues/21755 */display: inline-block !important;position: relative;}#sk-container-id-1 div.sk-text-repr-fallback {display: none;}</style><div id=\"sk-container-id-1\" class=\"sk-top-container\"><div class=\"sk-text-repr-fallback\"><pre>RandomForestClassifier(random_state=42)</pre><b>In a Jupyter environment, please rerun this cell to show the HTML representation or trust the notebook. <br />On GitHub, the HTML representation is unable to render, please try loading this page with nbviewer.org.</b></div><div class=\"sk-container\" hidden><div class=\"sk-item\"><div class=\"sk-estimator sk-toggleable\"><input class=\"sk-toggleable__control sk-hidden--visually\" id=\"sk-estimator-id-1\" type=\"checkbox\" checked><label for=\"sk-estimator-id-1\" class=\"sk-toggleable__label sk-toggleable__label-arrow\">RandomForestClassifier</label><div class=\"sk-toggleable__content\"><pre>RandomForestClassifier(random_state=42)</pre></div></div></div></div></div>"
      ],
      "text/plain": [
       "RandomForestClassifier(random_state=42)"
      ]
     },
     "execution_count": 9,
     "metadata": {},
     "output_type": "execute_result"
    }
   ],
   "source": [
    "best_model"
   ]
  },
  {
   "cell_type": "markdown",
   "id": "b566a1ee",
   "metadata": {},
   "source": [
    "## Training a Random Forest Classifier"
   ]
  },
  {
   "cell_type": "code",
   "execution_count": 10,
   "id": "a2593f89",
   "metadata": {},
   "outputs": [
    {
     "data": {
      "text/html": [
       "<style>#sk-container-id-2 {color: black;}#sk-container-id-2 pre{padding: 0;}#sk-container-id-2 div.sk-toggleable {background-color: white;}#sk-container-id-2 label.sk-toggleable__label {cursor: pointer;display: block;width: 100%;margin-bottom: 0;padding: 0.3em;box-sizing: border-box;text-align: center;}#sk-container-id-2 label.sk-toggleable__label-arrow:before {content: \"▸\";float: left;margin-right: 0.25em;color: #696969;}#sk-container-id-2 label.sk-toggleable__label-arrow:hover:before {color: black;}#sk-container-id-2 div.sk-estimator:hover label.sk-toggleable__label-arrow:before {color: black;}#sk-container-id-2 div.sk-toggleable__content {max-height: 0;max-width: 0;overflow: hidden;text-align: left;background-color: #f0f8ff;}#sk-container-id-2 div.sk-toggleable__content pre {margin: 0.2em;color: black;border-radius: 0.25em;background-color: #f0f8ff;}#sk-container-id-2 input.sk-toggleable__control:checked~div.sk-toggleable__content {max-height: 200px;max-width: 100%;overflow: auto;}#sk-container-id-2 input.sk-toggleable__control:checked~label.sk-toggleable__label-arrow:before {content: \"▾\";}#sk-container-id-2 div.sk-estimator input.sk-toggleable__control:checked~label.sk-toggleable__label {background-color: #d4ebff;}#sk-container-id-2 div.sk-label input.sk-toggleable__control:checked~label.sk-toggleable__label {background-color: #d4ebff;}#sk-container-id-2 input.sk-hidden--visually {border: 0;clip: rect(1px 1px 1px 1px);clip: rect(1px, 1px, 1px, 1px);height: 1px;margin: -1px;overflow: hidden;padding: 0;position: absolute;width: 1px;}#sk-container-id-2 div.sk-estimator {font-family: monospace;background-color: #f0f8ff;border: 1px dotted black;border-radius: 0.25em;box-sizing: border-box;margin-bottom: 0.5em;}#sk-container-id-2 div.sk-estimator:hover {background-color: #d4ebff;}#sk-container-id-2 div.sk-parallel-item::after {content: \"\";width: 100%;border-bottom: 1px solid gray;flex-grow: 1;}#sk-container-id-2 div.sk-label:hover label.sk-toggleable__label {background-color: #d4ebff;}#sk-container-id-2 div.sk-serial::before {content: \"\";position: absolute;border-left: 1px solid gray;box-sizing: border-box;top: 0;bottom: 0;left: 50%;z-index: 0;}#sk-container-id-2 div.sk-serial {display: flex;flex-direction: column;align-items: center;background-color: white;padding-right: 0.2em;padding-left: 0.2em;position: relative;}#sk-container-id-2 div.sk-item {position: relative;z-index: 1;}#sk-container-id-2 div.sk-parallel {display: flex;align-items: stretch;justify-content: center;background-color: white;position: relative;}#sk-container-id-2 div.sk-item::before, #sk-container-id-2 div.sk-parallel-item::before {content: \"\";position: absolute;border-left: 1px solid gray;box-sizing: border-box;top: 0;bottom: 0;left: 50%;z-index: -1;}#sk-container-id-2 div.sk-parallel-item {display: flex;flex-direction: column;z-index: 1;position: relative;background-color: white;}#sk-container-id-2 div.sk-parallel-item:first-child::after {align-self: flex-end;width: 50%;}#sk-container-id-2 div.sk-parallel-item:last-child::after {align-self: flex-start;width: 50%;}#sk-container-id-2 div.sk-parallel-item:only-child::after {width: 0;}#sk-container-id-2 div.sk-dashed-wrapped {border: 1px dashed gray;margin: 0 0.4em 0.5em 0.4em;box-sizing: border-box;padding-bottom: 0.4em;background-color: white;}#sk-container-id-2 div.sk-label label {font-family: monospace;font-weight: bold;display: inline-block;line-height: 1.2em;}#sk-container-id-2 div.sk-label-container {text-align: center;}#sk-container-id-2 div.sk-container {/* jupyter's `normalize.less` sets `[hidden] { display: none; }` but bootstrap.min.css set `[hidden] { display: none !important; }` so we also need the `!important` here to be able to override the default hidden behavior on the sphinx rendered scikit-learn.org. See: https://github.com/scikit-learn/scikit-learn/issues/21755 */display: inline-block !important;position: relative;}#sk-container-id-2 div.sk-text-repr-fallback {display: none;}</style><div id=\"sk-container-id-2\" class=\"sk-top-container\"><div class=\"sk-text-repr-fallback\"><pre>RandomForestClassifier(random_state=42)</pre><b>In a Jupyter environment, please rerun this cell to show the HTML representation or trust the notebook. <br />On GitHub, the HTML representation is unable to render, please try loading this page with nbviewer.org.</b></div><div class=\"sk-container\" hidden><div class=\"sk-item\"><div class=\"sk-estimator sk-toggleable\"><input class=\"sk-toggleable__control sk-hidden--visually\" id=\"sk-estimator-id-2\" type=\"checkbox\" checked><label for=\"sk-estimator-id-2\" class=\"sk-toggleable__label sk-toggleable__label-arrow\">RandomForestClassifier</label><div class=\"sk-toggleable__content\"><pre>RandomForestClassifier(random_state=42)</pre></div></div></div></div></div>"
      ],
      "text/plain": [
       "RandomForestClassifier(random_state=42)"
      ]
     },
     "execution_count": 10,
     "metadata": {},
     "output_type": "execute_result"
    }
   ],
   "source": [
    "from sklearn.ensemble import RandomForestClassifier\n",
    "\n",
    "# Initialize the model\n",
    "model = RandomForestClassifier(n_estimators=100, random_state=42)\n",
    "\n",
    "# Train the model\n",
    "model.fit(X_train, y_train)"
   ]
  },
  {
   "cell_type": "markdown",
   "id": "91ce453e",
   "metadata": {},
   "source": [
    "## Evaluating Model Performance"
   ]
  },
  {
   "cell_type": "code",
   "execution_count": 11,
   "id": "35605d1e",
   "metadata": {},
   "outputs": [
    {
     "name": "stdout",
     "output_type": "stream",
     "text": [
      "Accuracy: 0.7971014492753623\n"
     ]
    }
   ],
   "source": [
    "from sklearn.metrics import accuracy_score\n",
    "\n",
    "# Make predictions on the test set\n",
    "y_pred = model.predict(X_test)\n",
    "\n",
    "# Calculate accuracy\n",
    "accuracy = accuracy_score(y_test, y_pred)\n",
    "print(\"Accuracy:\", accuracy)"
   ]
  },
  {
   "cell_type": "code",
   "execution_count": 12,
   "id": "968a4dc8",
   "metadata": {},
   "outputs": [
    {
     "data": {
      "text/plain": [
       "array(['Calm', 'Energetic', 'Energetic', 'Happy', 'Energetic', 'Sad',\n",
       "       'Calm', 'Energetic', 'Calm', 'Sad', 'Happy', 'Sad', 'Calm',\n",
       "       'Energetic', 'Sad', 'Sad', 'Calm', 'Happy', 'Happy', 'Calm', 'Sad',\n",
       "       'Energetic', 'Energetic', 'Energetic', 'Energetic', 'Sad', 'Happy',\n",
       "       'Calm', 'Sad', 'Energetic', 'Calm', 'Sad', 'Energetic', 'Happy',\n",
       "       'Happy', 'Sad', 'Calm', 'Calm', 'Sad', 'Calm', 'Sad', 'Energetic',\n",
       "       'Calm', 'Sad', 'Energetic', 'Calm', 'Energetic', 'Energetic',\n",
       "       'Energetic', 'Sad', 'Sad', 'Energetic', 'Happy', 'Energetic',\n",
       "       'Sad', 'Calm', 'Calm', 'Happy', 'Calm', 'Energetic', 'Sad', 'Calm',\n",
       "       'Sad', 'Calm', 'Calm', 'Energetic', 'Energetic', 'Sad', 'Sad',\n",
       "       'Energetic', 'Energetic', 'Sad', 'Energetic', 'Energetic', 'Sad',\n",
       "       'Calm', 'Sad', 'Energetic', 'Calm', 'Sad', 'Sad', 'Calm', 'Sad',\n",
       "       'Sad', 'Sad', 'Happy', 'Happy', 'Happy', 'Sad', 'Calm',\n",
       "       'Energetic', 'Happy', 'Sad', 'Energetic', 'Sad', 'Energetic',\n",
       "       'Energetic', 'Happy', 'Sad', 'Calm', 'Sad', 'Happy', 'Calm', 'Sad',\n",
       "       'Happy', 'Calm', 'Energetic', 'Energetic', 'Calm', 'Calm', 'Calm',\n",
       "       'Calm', 'Calm', 'Calm', 'Energetic', 'Calm', 'Energetic',\n",
       "       'Energetic', 'Sad', 'Happy', 'Sad', 'Energetic', 'Energetic',\n",
       "       'Sad', 'Calm', 'Calm', 'Calm', 'Happy', 'Energetic', 'Energetic',\n",
       "       'Sad', 'Calm', 'Happy', 'Calm', 'Calm', 'Sad', 'Calm', 'Energetic'],\n",
       "      dtype=object)"
      ]
     },
     "execution_count": 12,
     "metadata": {},
     "output_type": "execute_result"
    }
   ],
   "source": [
    "y_pred"
   ]
  },
  {
   "cell_type": "markdown",
   "id": "7429c9bb",
   "metadata": {},
   "source": [
    "# Part 2 Data Preparing for Music Mood"
   ]
  },
  {
   "cell_type": "markdown",
   "id": "17899210",
   "metadata": {},
   "source": [
    "# Assigning Path for Dataset"
   ]
  },
  {
   "cell_type": "code",
   "execution_count": 13,
   "id": "dccca439",
   "metadata": {},
   "outputs": [],
   "source": [
    "TRAIN_DIR = r\"C:\\Users\\saija\\Downloads\\python\\project\\moodformusic\\train\"\n",
    "TEST_DIR = r\"C:\\Users\\saija\\Downloads\\python\\project\\moodformusic\\test\"\n",
    "BATCH_SIZE=64"
   ]
  },
  {
   "cell_type": "markdown",
   "id": "d784c283",
   "metadata": {},
   "source": [
    "### Image Dataset Overview"
   ]
  },
  {
   "cell_type": "code",
   "execution_count": 14,
   "id": "694f120d",
   "metadata": {},
   "outputs": [
    {
     "name": "stdout",
     "output_type": "stream",
     "text": [
      "For training data, found 3995 in folder angry\n",
      "For training data, found 436 in folder disgust\n",
      "For training data, found 4097 in folder fear\n",
      "For training data, found 7215 in folder happy\n",
      "For training data, found 4965 in folder neutral\n",
      "For training data, found 4830 in folder sad\n",
      "For training data, found 3171 in folder surprise\n"
     ]
    }
   ],
   "source": [
    "for folder in os.listdir(TRAIN_DIR):\n",
    "    files = gb.glob(pathname= str(TRAIN_DIR+ '/'+ folder + '/*.jpg'))\n",
    "    print(f'For training data, found {len(files)} in folder {folder}')"
   ]
  },
  {
   "cell_type": "code",
   "execution_count": 15,
   "id": "01b70f7a",
   "metadata": {},
   "outputs": [
    {
     "name": "stdout",
     "output_type": "stream",
     "text": [
      "For testing data, found 958 in folder angry\n",
      "For testing data, found 111 in folder disgust\n",
      "For testing data, found 1024 in folder fear\n",
      "For testing data, found 1774 in folder happy\n",
      "For testing data, found 1233 in folder neutral\n",
      "For testing data, found 1247 in folder sad\n",
      "For testing data, found 831 in folder surprise\n"
     ]
    }
   ],
   "source": [
    "for folder in os.listdir(TEST_DIR):\n",
    "    files = gb.glob(pathname= str(TEST_DIR+ '/'+ folder + '/*.jpg'))\n",
    "    print(f'For testing data, found {len(files)} in folder {folder}')"
   ]
  },
  {
   "cell_type": "markdown",
   "id": "2e8d88bc",
   "metadata": {},
   "source": [
    "### Random Image Viewer Function"
   ]
  },
  {
   "cell_type": "code",
   "execution_count": 16,
   "id": "ea05d389",
   "metadata": {},
   "outputs": [],
   "source": [
    "import random\n",
    "import matplotlib.pyplot as plt\n",
    "import matplotlib.image as mpimg\n",
    "\n",
    "def view_random_image(target_dir, target_class):\n",
    "    # We will view images from here\n",
    "    target_folder = target_dir + target_class\n",
    "    \n",
    "    # Get a random image path\n",
    "    random_image = random.sample(od.listdir(target_folder), 1)\n",
    "    \n",
    "    # read in the image and plot it using matplolib\n",
    "    img = mpimg.imread(target_folder+'/'+random_image[0])\n",
    "    plt.imshow(img)\n",
    "    plt.title(target_class)\n",
    "    plt.axis('off')\n",
    "    print(f\"Image shape {img.shape}\")\n",
    "    \n",
    "    return img"
   ]
  },
  {
   "cell_type": "code",
   "execution_count": 17,
   "id": "cf4973f2",
   "metadata": {},
   "outputs": [],
   "source": [
    "class_names = [\"anger\",\"disgust\",\"fear\",\"happy\",\"neutral\",\"sad\",\"surprise\"]"
   ]
  },
  {
   "cell_type": "markdown",
   "id": "f73cfac5",
   "metadata": {},
   "source": [
    "### Data Preprocessing with Keras"
   ]
  },
  {
   "cell_type": "code",
   "execution_count": 18,
   "id": "57bc862e",
   "metadata": {},
   "outputs": [
    {
     "name": "stdout",
     "output_type": "stream",
     "text": [
      "Found 28709 images belonging to 7 classes.\n",
      "Found 7178 images belonging to 7 classes.\n"
     ]
    }
   ],
   "source": [
    "from keras.preprocessing.image import ImageDataGenerator\n",
    "\n",
    "train_datagen = ImageDataGenerator(rescale = 1./255,\n",
    "                                   shear_range = 0.2,\n",
    "                                   zoom_range = 0.2,\n",
    "                                   horizontal_flip = True)\n",
    "\n",
    "test_datagen = ImageDataGenerator(rescale = 1./255)\n",
    "\n",
    "training_set = train_datagen.flow_from_directory(TRAIN_DIR,\n",
    "                                                 target_size = (128, 128),\n",
    "                                                 batch_size = BATCH_SIZE,\n",
    "                                                 class_mode = 'categorical')\n",
    "\n",
    "test_set = test_datagen.flow_from_directory(TEST_DIR,\n",
    "                                            target_size = (128, 128),\n",
    "                                            batch_size = BATCH_SIZE,\n",
    "                                            class_mode = 'categorical')"
   ]
  },
  {
   "cell_type": "markdown",
   "id": "a1726561",
   "metadata": {},
   "source": [
    "### Convolutional Neural Network (CNN) Model Architecture"
   ]
  },
  {
   "cell_type": "code",
   "execution_count": 19,
   "id": "85077b72",
   "metadata": {},
   "outputs": [
    {
     "name": "stdout",
     "output_type": "stream",
     "text": [
      "WARNING:tensorflow:From C:\\Users\\saija\\anaconda3\\Lib\\site-packages\\keras\\src\\backend.py:873: The name tf.get_default_graph is deprecated. Please use tf.compat.v1.get_default_graph instead.\n",
      "\n",
      "WARNING:tensorflow:From C:\\Users\\saija\\anaconda3\\Lib\\site-packages\\keras\\src\\layers\\pooling\\max_pooling2d.py:161: The name tf.nn.max_pool is deprecated. Please use tf.nn.max_pool2d instead.\n",
      "\n",
      "WARNING:tensorflow:From C:\\Users\\saija\\anaconda3\\Lib\\site-packages\\keras\\src\\optimizers\\__init__.py:309: The name tf.train.Optimizer is deprecated. Please use tf.compat.v1.train.Optimizer instead.\n",
      "\n"
     ]
    }
   ],
   "source": [
    "from keras.models import Sequential\n",
    "from keras.layers import Conv2D, MaxPooling2D, Flatten, Dense\n",
    "\n",
    "model = Sequential()\n",
    "\n",
    "# Add convolutional layers\n",
    "model.add(Conv2D(32, (3, 3), input_shape=(128, 128, 3), activation='relu'))\n",
    "model.add(MaxPooling2D(pool_size=(2, 2)))\n",
    "\n",
    "model.add(Conv2D(64, (3, 3), activation='relu'))\n",
    "model.add(MaxPooling2D(pool_size=(2, 2)))\n",
    "\n",
    "model.add(Conv2D(128, (3, 3), activation='relu'))\n",
    "model.add(MaxPooling2D(pool_size=(2, 2)))\n",
    "\n",
    "# Flatten the layers\n",
    "model.add(Flatten())\n",
    "\n",
    "# Add dense layers for classification\n",
    "model.add(Dense(units=128, activation='relu'))\n",
    "model.add(Dense(units=7, activation='softmax'))  # 7 classes for moods\n",
    "\n",
    "# Compile the model\n",
    "model.compile(optimizer='adam', loss='categorical_crossentropy', metrics=['accuracy'])\n"
   ]
  },
  {
   "cell_type": "markdown",
   "id": "c2fdcef5",
   "metadata": {},
   "source": [
    "## Training CNN Model"
   ]
  },
  {
   "cell_type": "code",
   "execution_count": 20,
   "id": "223dede8",
   "metadata": {},
   "outputs": [
    {
     "name": "stdout",
     "output_type": "stream",
     "text": [
      "Epoch 1/130\n",
      "WARNING:tensorflow:From C:\\Users\\saija\\anaconda3\\Lib\\site-packages\\keras\\src\\utils\\tf_utils.py:492: The name tf.ragged.RaggedTensorValue is deprecated. Please use tf.compat.v1.ragged.RaggedTensorValue instead.\n",
      "\n",
      "WARNING:tensorflow:From C:\\Users\\saija\\anaconda3\\Lib\\site-packages\\keras\\src\\engine\\base_layer_utils.py:384: The name tf.executing_eagerly_outside_functions is deprecated. Please use tf.compat.v1.executing_eagerly_outside_functions instead.\n",
      "\n",
      "449/449 [==============================] - 361s 802ms/step - loss: 1.6671 - accuracy: 0.3377 - val_loss: 1.4751 - val_accuracy: 0.4365\n",
      "Epoch 2/130\n",
      "449/449 [==============================] - 280s 623ms/step - loss: 1.4575 - accuracy: 0.4398 - val_loss: 1.3699 - val_accuracy: 0.4735\n",
      "Epoch 3/130\n",
      "449/449 [==============================] - 276s 613ms/step - loss: 1.3416 - accuracy: 0.4831 - val_loss: 1.2760 - val_accuracy: 0.5059\n",
      "Epoch 4/130\n",
      "449/449 [==============================] - 198s 441ms/step - loss: 1.2708 - accuracy: 0.5143 - val_loss: 1.2314 - val_accuracy: 0.5240\n",
      "Epoch 5/130\n",
      "449/449 [==============================] - 163s 362ms/step - loss: 1.2174 - accuracy: 0.5351 - val_loss: 1.1950 - val_accuracy: 0.5449\n",
      "Epoch 6/130\n",
      "449/449 [==============================] - 169s 377ms/step - loss: 1.1780 - accuracy: 0.5485 - val_loss: 1.1709 - val_accuracy: 0.5589\n",
      "Epoch 7/130\n",
      "449/449 [==============================] - 166s 369ms/step - loss: 1.1362 - accuracy: 0.5707 - val_loss: 1.1979 - val_accuracy: 0.5464\n",
      "Epoch 8/130\n",
      "449/449 [==============================] - 163s 363ms/step - loss: 1.1105 - accuracy: 0.5781 - val_loss: 1.1733 - val_accuracy: 0.5589\n",
      "Epoch 9/130\n",
      "449/449 [==============================] - 167s 372ms/step - loss: 1.0817 - accuracy: 0.5902 - val_loss: 1.1488 - val_accuracy: 0.5666\n",
      "Epoch 10/130\n",
      "449/449 [==============================] - 169s 375ms/step - loss: 1.0546 - accuracy: 0.6034 - val_loss: 1.1634 - val_accuracy: 0.5699\n",
      "Epoch 11/130\n",
      "449/449 [==============================] - 172s 383ms/step - loss: 1.0207 - accuracy: 0.6176 - val_loss: 1.1612 - val_accuracy: 0.5712\n",
      "Epoch 12/130\n",
      "449/449 [==============================] - 176s 391ms/step - loss: 1.0127 - accuracy: 0.6181 - val_loss: 1.1625 - val_accuracy: 0.5734\n",
      "Epoch 13/130\n",
      "449/449 [==============================] - 170s 378ms/step - loss: 0.9851 - accuracy: 0.6306 - val_loss: 1.1463 - val_accuracy: 0.5734\n",
      "Epoch 14/130\n",
      "449/449 [==============================] - 174s 387ms/step - loss: 0.9677 - accuracy: 0.6350 - val_loss: 1.1700 - val_accuracy: 0.5776\n",
      "Epoch 15/130\n",
      "449/449 [==============================] - 176s 391ms/step - loss: 0.9492 - accuracy: 0.6434 - val_loss: 1.1615 - val_accuracy: 0.5832\n",
      "Epoch 16/130\n",
      "449/449 [==============================] - 181s 403ms/step - loss: 0.9266 - accuracy: 0.6529 - val_loss: 1.1473 - val_accuracy: 0.5844\n",
      "Epoch 17/130\n",
      "449/449 [==============================] - 175s 390ms/step - loss: 0.9075 - accuracy: 0.6631 - val_loss: 1.1601 - val_accuracy: 0.5836\n",
      "Epoch 18/130\n",
      "449/449 [==============================] - 176s 391ms/step - loss: 0.8956 - accuracy: 0.6665 - val_loss: 1.1544 - val_accuracy: 0.5808\n",
      "Epoch 19/130\n",
      "449/449 [==============================] - 181s 402ms/step - loss: 0.8738 - accuracy: 0.6742 - val_loss: 1.1959 - val_accuracy: 0.5826\n",
      "Epoch 20/130\n",
      "449/449 [==============================] - 173s 384ms/step - loss: 0.8600 - accuracy: 0.6787 - val_loss: 1.1924 - val_accuracy: 0.5858\n",
      "Epoch 21/130\n",
      "449/449 [==============================] - 177s 394ms/step - loss: 0.8401 - accuracy: 0.6891 - val_loss: 1.2147 - val_accuracy: 0.5841\n",
      "Epoch 22/130\n",
      "449/449 [==============================] - 180s 402ms/step - loss: 0.8259 - accuracy: 0.6940 - val_loss: 1.1981 - val_accuracy: 0.5864\n",
      "Epoch 23/130\n",
      "449/449 [==============================] - 208s 464ms/step - loss: 0.8144 - accuracy: 0.6991 - val_loss: 1.2274 - val_accuracy: 0.5882\n",
      "Epoch 24/130\n",
      "449/449 [==============================] - 163s 364ms/step - loss: 0.8008 - accuracy: 0.7032 - val_loss: 1.2504 - val_accuracy: 0.5772\n",
      "Epoch 25/130\n",
      "449/449 [==============================] - 163s 363ms/step - loss: 0.7870 - accuracy: 0.7095 - val_loss: 1.2186 - val_accuracy: 0.5867\n",
      "Epoch 26/130\n",
      "449/449 [==============================] - 172s 384ms/step - loss: 0.7755 - accuracy: 0.7138 - val_loss: 1.2598 - val_accuracy: 0.5772\n",
      "Epoch 27/130\n",
      "449/449 [==============================] - 171s 380ms/step - loss: 0.7656 - accuracy: 0.7136 - val_loss: 1.2443 - val_accuracy: 0.5869\n",
      "Epoch 28/130\n",
      "449/449 [==============================] - 184s 409ms/step - loss: 0.7486 - accuracy: 0.7261 - val_loss: 1.2504 - val_accuracy: 0.5837\n",
      "Epoch 29/130\n",
      "449/449 [==============================] - 227s 506ms/step - loss: 0.7416 - accuracy: 0.7281 - val_loss: 1.2954 - val_accuracy: 0.5874\n",
      "Epoch 30/130\n",
      "449/449 [==============================] - 238s 530ms/step - loss: 0.7338 - accuracy: 0.7283 - val_loss: 1.2860 - val_accuracy: 0.5868\n",
      "Epoch 31/130\n",
      "449/449 [==============================] - 217s 484ms/step - loss: 0.7213 - accuracy: 0.7340 - val_loss: 1.3024 - val_accuracy: 0.5832\n",
      "Epoch 32/130\n",
      "449/449 [==============================] - 229s 511ms/step - loss: 0.7056 - accuracy: 0.7399 - val_loss: 1.3264 - val_accuracy: 0.5889\n",
      "Epoch 33/130\n",
      "449/449 [==============================] - 231s 514ms/step - loss: 0.7079 - accuracy: 0.7398 - val_loss: 1.2915 - val_accuracy: 0.5789\n",
      "Epoch 34/130\n",
      "449/449 [==============================] - 335s 747ms/step - loss: 0.6905 - accuracy: 0.7470 - val_loss: 1.3236 - val_accuracy: 0.5807\n",
      "Epoch 35/130\n",
      "449/449 [==============================] - 346s 771ms/step - loss: 0.6794 - accuracy: 0.7496 - val_loss: 1.3421 - val_accuracy: 0.5784\n",
      "Epoch 36/130\n",
      "449/449 [==============================] - 283s 629ms/step - loss: 0.6762 - accuracy: 0.7522 - val_loss: 1.3160 - val_accuracy: 0.5897\n",
      "Epoch 37/130\n",
      "449/449 [==============================] - 295s 657ms/step - loss: 0.6582 - accuracy: 0.7576 - val_loss: 1.3850 - val_accuracy: 0.5843\n",
      "Epoch 38/130\n",
      "449/449 [==============================] - 266s 591ms/step - loss: 0.6517 - accuracy: 0.7615 - val_loss: 1.3875 - val_accuracy: 0.5867\n",
      "Epoch 39/130\n",
      "449/449 [==============================] - 259s 576ms/step - loss: 0.6472 - accuracy: 0.7650 - val_loss: 1.3956 - val_accuracy: 0.5811\n",
      "Epoch 40/130\n",
      "449/449 [==============================] - 257s 571ms/step - loss: 0.6350 - accuracy: 0.7686 - val_loss: 1.3780 - val_accuracy: 0.5805\n",
      "Epoch 41/130\n",
      "449/449 [==============================] - 258s 574ms/step - loss: 0.6334 - accuracy: 0.7657 - val_loss: 1.4106 - val_accuracy: 0.5730\n",
      "Epoch 42/130\n",
      "449/449 [==============================] - 258s 574ms/step - loss: 0.6279 - accuracy: 0.7707 - val_loss: 1.4259 - val_accuracy: 0.5740\n",
      "Epoch 43/130\n",
      "449/449 [==============================] - 259s 577ms/step - loss: 0.6131 - accuracy: 0.7743 - val_loss: 1.3880 - val_accuracy: 0.5769\n",
      "Epoch 44/130\n",
      "449/449 [==============================] - 291s 647ms/step - loss: 0.6147 - accuracy: 0.7751 - val_loss: 1.3984 - val_accuracy: 0.5879\n",
      "Epoch 45/130\n",
      "449/449 [==============================] - 273s 608ms/step - loss: 0.6040 - accuracy: 0.7774 - val_loss: 1.4679 - val_accuracy: 0.5812\n",
      "Epoch 46/130\n",
      "449/449 [==============================] - 259s 577ms/step - loss: 0.5941 - accuracy: 0.7816 - val_loss: 1.4865 - val_accuracy: 0.5719\n",
      "Epoch 47/130\n",
      "449/449 [==============================] - 257s 572ms/step - loss: 0.5928 - accuracy: 0.7855 - val_loss: 1.4669 - val_accuracy: 0.5793\n",
      "Epoch 48/130\n",
      "449/449 [==============================] - 257s 572ms/step - loss: 0.5878 - accuracy: 0.7852 - val_loss: 1.4949 - val_accuracy: 0.5751\n",
      "Epoch 49/130\n",
      "449/449 [==============================] - 276s 615ms/step - loss: 0.5818 - accuracy: 0.7863 - val_loss: 1.4959 - val_accuracy: 0.5740\n",
      "Epoch 50/130\n",
      "449/449 [==============================] - 288s 640ms/step - loss: 0.5744 - accuracy: 0.7899 - val_loss: 1.4749 - val_accuracy: 0.5783\n",
      "Epoch 51/130\n",
      "449/449 [==============================] - 278s 619ms/step - loss: 0.5620 - accuracy: 0.7941 - val_loss: 1.5492 - val_accuracy: 0.5750\n",
      "Epoch 52/130\n",
      "449/449 [==============================] - 279s 621ms/step - loss: 0.5566 - accuracy: 0.7977 - val_loss: 1.4826 - val_accuracy: 0.5765\n",
      "Epoch 53/130\n"
     ]
    },
    {
     "name": "stdout",
     "output_type": "stream",
     "text": [
      "449/449 [==============================] - 283s 630ms/step - loss: 0.5535 - accuracy: 0.7994 - val_loss: 1.5088 - val_accuracy: 0.5770\n",
      "Epoch 54/130\n",
      "449/449 [==============================] - 235s 522ms/step - loss: 0.5507 - accuracy: 0.8000 - val_loss: 1.5159 - val_accuracy: 0.5713\n",
      "Epoch 55/130\n",
      "449/449 [==============================] - 167s 371ms/step - loss: 0.5372 - accuracy: 0.8058 - val_loss: 1.5652 - val_accuracy: 0.5692\n",
      "Epoch 56/130\n",
      "449/449 [==============================] - 164s 366ms/step - loss: 0.5455 - accuracy: 0.8016 - val_loss: 1.5807 - val_accuracy: 0.5805\n",
      "Epoch 57/130\n",
      "449/449 [==============================] - 165s 367ms/step - loss: 0.5344 - accuracy: 0.8070 - val_loss: 1.5617 - val_accuracy: 0.5784\n",
      "Epoch 58/130\n",
      "449/449 [==============================] - 167s 371ms/step - loss: 0.5285 - accuracy: 0.8081 - val_loss: 1.5985 - val_accuracy: 0.5777\n",
      "Epoch 59/130\n",
      "449/449 [==============================] - 170s 379ms/step - loss: 0.5290 - accuracy: 0.8063 - val_loss: 1.5695 - val_accuracy: 0.5772\n",
      "Epoch 60/130\n",
      "449/449 [==============================] - 173s 385ms/step - loss: 0.5223 - accuracy: 0.8101 - val_loss: 1.6022 - val_accuracy: 0.5737\n",
      "Epoch 61/130\n",
      "449/449 [==============================] - 178s 396ms/step - loss: 0.5131 - accuracy: 0.8140 - val_loss: 1.6168 - val_accuracy: 0.5821\n",
      "Epoch 62/130\n",
      "449/449 [==============================] - 183s 407ms/step - loss: 0.5093 - accuracy: 0.8167 - val_loss: 1.6001 - val_accuracy: 0.5800\n",
      "Epoch 63/130\n",
      "449/449 [==============================] - 188s 419ms/step - loss: 0.5103 - accuracy: 0.8173 - val_loss: 1.5810 - val_accuracy: 0.5807\n",
      "Epoch 64/130\n",
      "449/449 [==============================] - 185s 412ms/step - loss: 0.5091 - accuracy: 0.8147 - val_loss: 1.6084 - val_accuracy: 0.5775\n",
      "Epoch 65/130\n",
      "449/449 [==============================] - 177s 393ms/step - loss: 0.5020 - accuracy: 0.8192 - val_loss: 1.6402 - val_accuracy: 0.5787\n",
      "Epoch 66/130\n",
      "449/449 [==============================] - 183s 408ms/step - loss: 0.4996 - accuracy: 0.8170 - val_loss: 1.5930 - val_accuracy: 0.5715\n",
      "Epoch 67/130\n",
      "449/449 [==============================] - 186s 415ms/step - loss: 0.4916 - accuracy: 0.8217 - val_loss: 1.6841 - val_accuracy: 0.5832\n",
      "Epoch 68/130\n",
      "449/449 [==============================] - 187s 416ms/step - loss: 0.4939 - accuracy: 0.8204 - val_loss: 1.6386 - val_accuracy: 0.5787\n",
      "Epoch 69/130\n",
      "449/449 [==============================] - 187s 417ms/step - loss: 0.4837 - accuracy: 0.8236 - val_loss: 1.7019 - val_accuracy: 0.5823\n",
      "Epoch 70/130\n",
      "449/449 [==============================] - 187s 417ms/step - loss: 0.4890 - accuracy: 0.8221 - val_loss: 1.6604 - val_accuracy: 0.5756\n",
      "Epoch 71/130\n",
      "449/449 [==============================] - 188s 418ms/step - loss: 0.4851 - accuracy: 0.8250 - val_loss: 1.6932 - val_accuracy: 0.5786\n",
      "Epoch 72/130\n",
      "449/449 [==============================] - 188s 417ms/step - loss: 0.4818 - accuracy: 0.8263 - val_loss: 1.6813 - val_accuracy: 0.5694\n",
      "Epoch 73/130\n",
      "449/449 [==============================] - 187s 415ms/step - loss: 0.4750 - accuracy: 0.8286 - val_loss: 1.7162 - val_accuracy: 0.5750\n",
      "Epoch 74/130\n",
      "449/449 [==============================] - 188s 419ms/step - loss: 0.4728 - accuracy: 0.8296 - val_loss: 1.6903 - val_accuracy: 0.5786\n",
      "Epoch 75/130\n",
      "449/449 [==============================] - 189s 421ms/step - loss: 0.4503 - accuracy: 0.8357 - val_loss: 1.7101 - val_accuracy: 0.5756\n",
      "Epoch 76/130\n",
      "449/449 [==============================] - 240s 535ms/step - loss: 0.4690 - accuracy: 0.8307 - val_loss: 1.7017 - val_accuracy: 0.5807\n",
      "Epoch 77/130\n",
      "449/449 [==============================] - 252s 560ms/step - loss: 0.4604 - accuracy: 0.8335 - val_loss: 1.7735 - val_accuracy: 0.5770\n",
      "Epoch 78/130\n",
      "449/449 [==============================] - 250s 557ms/step - loss: 0.4573 - accuracy: 0.8336 - val_loss: 1.7176 - val_accuracy: 0.5818\n",
      "Epoch 79/130\n",
      "449/449 [==============================] - 250s 557ms/step - loss: 0.4511 - accuracy: 0.8393 - val_loss: 1.6714 - val_accuracy: 0.5808\n",
      "Epoch 80/130\n",
      "449/449 [==============================] - 250s 556ms/step - loss: 0.4501 - accuracy: 0.8361 - val_loss: 1.7585 - val_accuracy: 0.5699\n",
      "Epoch 81/130\n",
      "449/449 [==============================] - 251s 558ms/step - loss: 0.4416 - accuracy: 0.8392 - val_loss: 1.7174 - val_accuracy: 0.5797\n",
      "Epoch 82/130\n",
      "449/449 [==============================] - 254s 565ms/step - loss: 0.4327 - accuracy: 0.8450 - val_loss: 1.7288 - val_accuracy: 0.5797\n",
      "Epoch 83/130\n",
      "449/449 [==============================] - 247s 550ms/step - loss: 0.4407 - accuracy: 0.8425 - val_loss: 1.7514 - val_accuracy: 0.5787\n",
      "Epoch 84/130\n",
      "449/449 [==============================] - 245s 546ms/step - loss: 0.4456 - accuracy: 0.8414 - val_loss: 1.8198 - val_accuracy: 0.5748\n",
      "Epoch 85/130\n",
      "449/449 [==============================] - 244s 543ms/step - loss: 0.4375 - accuracy: 0.8412 - val_loss: 1.7470 - val_accuracy: 0.5756\n",
      "Epoch 86/130\n",
      "449/449 [==============================] - 245s 546ms/step - loss: 0.4219 - accuracy: 0.8468 - val_loss: 1.8016 - val_accuracy: 0.5658\n",
      "Epoch 87/130\n",
      "449/449 [==============================] - 246s 549ms/step - loss: 0.4276 - accuracy: 0.8459 - val_loss: 1.7924 - val_accuracy: 0.5811\n",
      "Epoch 88/130\n",
      "449/449 [==============================] - 245s 546ms/step - loss: 0.4223 - accuracy: 0.8459 - val_loss: 1.8540 - val_accuracy: 0.5819\n",
      "Epoch 89/130\n",
      "449/449 [==============================] - 246s 548ms/step - loss: 0.4297 - accuracy: 0.8471 - val_loss: 1.8297 - val_accuracy: 0.5773\n",
      "Epoch 90/130\n",
      "449/449 [==============================] - 171s 380ms/step - loss: 0.4151 - accuracy: 0.8530 - val_loss: 1.8940 - val_accuracy: 0.5879\n",
      "Epoch 91/130\n",
      "449/449 [==============================] - 172s 383ms/step - loss: 0.4208 - accuracy: 0.8489 - val_loss: 1.8459 - val_accuracy: 0.5763\n",
      "Epoch 92/130\n",
      "449/449 [==============================] - 176s 391ms/step - loss: 0.4188 - accuracy: 0.8494 - val_loss: 1.9178 - val_accuracy: 0.5720\n",
      "Epoch 93/130\n",
      "449/449 [==============================] - 175s 389ms/step - loss: 0.4098 - accuracy: 0.8523 - val_loss: 1.8619 - val_accuracy: 0.5733\n",
      "Epoch 94/130\n",
      "449/449 [==============================] - 183s 407ms/step - loss: 0.4120 - accuracy: 0.8507 - val_loss: 1.8900 - val_accuracy: 0.5758\n",
      "Epoch 95/130\n",
      "449/449 [==============================] - 187s 416ms/step - loss: 0.4100 - accuracy: 0.8513 - val_loss: 1.7858 - val_accuracy: 0.5807\n",
      "Epoch 96/130\n",
      "449/449 [==============================] - 198s 441ms/step - loss: 0.4036 - accuracy: 0.8516 - val_loss: 1.8750 - val_accuracy: 0.5663\n",
      "Epoch 97/130\n",
      "449/449 [==============================] - 203s 453ms/step - loss: 0.4040 - accuracy: 0.8541 - val_loss: 1.8949 - val_accuracy: 0.5776\n",
      "Epoch 98/130\n",
      "449/449 [==============================] - 200s 445ms/step - loss: 0.4001 - accuracy: 0.8565 - val_loss: 1.9291 - val_accuracy: 0.5734\n",
      "Epoch 99/130\n",
      "449/449 [==============================] - 196s 435ms/step - loss: 0.4034 - accuracy: 0.8554 - val_loss: 1.8683 - val_accuracy: 0.5765\n",
      "Epoch 100/130\n",
      "449/449 [==============================] - 191s 426ms/step - loss: 0.3993 - accuracy: 0.8562 - val_loss: 1.9040 - val_accuracy: 0.5734\n",
      "Epoch 101/130\n",
      "449/449 [==============================] - 189s 421ms/step - loss: 0.3914 - accuracy: 0.8586 - val_loss: 1.8802 - val_accuracy: 0.5765\n",
      "Epoch 102/130\n",
      "449/449 [==============================] - 198s 440ms/step - loss: 0.3938 - accuracy: 0.8592 - val_loss: 1.9416 - val_accuracy: 0.5662\n",
      "Epoch 103/130\n",
      "449/449 [==============================] - 201s 449ms/step - loss: 0.3901 - accuracy: 0.8623 - val_loss: 1.9397 - val_accuracy: 0.5829\n",
      "Epoch 104/130\n",
      "449/449 [==============================] - 190s 422ms/step - loss: 0.3880 - accuracy: 0.8601 - val_loss: 1.8860 - val_accuracy: 0.5705\n",
      "Epoch 105/130\n",
      "449/449 [==============================] - 190s 423ms/step - loss: 0.3876 - accuracy: 0.8623 - val_loss: 1.9464 - val_accuracy: 0.5762\n",
      "Epoch 106/130\n",
      "449/449 [==============================] - 191s 425ms/step - loss: 0.3863 - accuracy: 0.8599 - val_loss: 1.8826 - val_accuracy: 0.5769\n",
      "Epoch 107/130\n",
      "449/449 [==============================] - 189s 420ms/step - loss: 0.3786 - accuracy: 0.8635 - val_loss: 1.9155 - val_accuracy: 0.5821\n",
      "Epoch 108/130\n"
     ]
    },
    {
     "name": "stdout",
     "output_type": "stream",
     "text": [
      "449/449 [==============================] - 188s 418ms/step - loss: 0.3756 - accuracy: 0.8645 - val_loss: 1.9878 - val_accuracy: 0.5738\n",
      "Epoch 109/130\n",
      "449/449 [==============================] - 231s 513ms/step - loss: 0.3829 - accuracy: 0.8622 - val_loss: 1.9261 - val_accuracy: 0.5737\n",
      "Epoch 110/130\n",
      "449/449 [==============================] - 200s 444ms/step - loss: 0.3742 - accuracy: 0.8656 - val_loss: 1.9840 - val_accuracy: 0.5805\n",
      "Epoch 111/130\n",
      "449/449 [==============================] - 222s 495ms/step - loss: 0.3768 - accuracy: 0.8638 - val_loss: 1.9907 - val_accuracy: 0.5687\n",
      "Epoch 112/130\n",
      "449/449 [==============================] - 264s 587ms/step - loss: 0.3754 - accuracy: 0.8640 - val_loss: 2.0121 - val_accuracy: 0.5747\n",
      "Epoch 113/130\n",
      "449/449 [==============================] - 262s 583ms/step - loss: 0.3737 - accuracy: 0.8650 - val_loss: 1.9772 - val_accuracy: 0.5676\n",
      "Epoch 114/130\n",
      "449/449 [==============================] - 262s 584ms/step - loss: 0.3694 - accuracy: 0.8678 - val_loss: 1.9960 - val_accuracy: 0.5747\n",
      "Epoch 115/130\n",
      "449/449 [==============================] - 262s 584ms/step - loss: 0.3627 - accuracy: 0.8715 - val_loss: 1.9920 - val_accuracy: 0.5811\n",
      "Epoch 116/130\n",
      "449/449 [==============================] - 270s 601ms/step - loss: 0.3710 - accuracy: 0.8668 - val_loss: 1.9789 - val_accuracy: 0.5791\n",
      "Epoch 117/130\n",
      "449/449 [==============================] - 268s 596ms/step - loss: 0.3686 - accuracy: 0.8684 - val_loss: 1.9990 - val_accuracy: 0.5791\n",
      "Epoch 118/130\n",
      "449/449 [==============================] - 254s 566ms/step - loss: 0.3675 - accuracy: 0.8682 - val_loss: 1.9503 - val_accuracy: 0.5787\n",
      "Epoch 119/130\n",
      "449/449 [==============================] - 256s 569ms/step - loss: 0.3629 - accuracy: 0.8725 - val_loss: 1.9537 - val_accuracy: 0.5713\n",
      "Epoch 120/130\n",
      "449/449 [==============================] - 299s 666ms/step - loss: 0.3564 - accuracy: 0.8724 - val_loss: 2.0039 - val_accuracy: 0.5759\n",
      "Epoch 121/130\n",
      "449/449 [==============================] - 288s 641ms/step - loss: 0.3511 - accuracy: 0.8746 - val_loss: 2.0368 - val_accuracy: 0.5802\n",
      "Epoch 122/130\n",
      "449/449 [==============================] - 293s 652ms/step - loss: 0.3536 - accuracy: 0.8740 - val_loss: 2.0064 - val_accuracy: 0.5782\n",
      "Epoch 123/130\n",
      "449/449 [==============================] - 317s 706ms/step - loss: 0.3611 - accuracy: 0.8698 - val_loss: 2.0443 - val_accuracy: 0.5747\n",
      "Epoch 124/130\n",
      "449/449 [==============================] - 287s 639ms/step - loss: 0.3537 - accuracy: 0.8728 - val_loss: 2.0009 - val_accuracy: 0.5772\n",
      "Epoch 125/130\n",
      "449/449 [==============================] - 183s 406ms/step - loss: 0.3500 - accuracy: 0.8754 - val_loss: 2.0539 - val_accuracy: 0.5738\n",
      "Epoch 126/130\n",
      "449/449 [==============================] - 177s 394ms/step - loss: 0.3511 - accuracy: 0.8753 - val_loss: 2.0912 - val_accuracy: 0.5723\n",
      "Epoch 127/130\n",
      "449/449 [==============================] - 177s 395ms/step - loss: 0.3492 - accuracy: 0.8737 - val_loss: 2.0624 - val_accuracy: 0.5716\n",
      "Epoch 128/130\n",
      "449/449 [==============================] - 182s 405ms/step - loss: 0.3509 - accuracy: 0.8729 - val_loss: 2.0336 - val_accuracy: 0.5747\n",
      "Epoch 129/130\n",
      "449/449 [==============================] - 175s 391ms/step - loss: 0.3427 - accuracy: 0.8773 - val_loss: 2.0413 - val_accuracy: 0.5736\n",
      "Epoch 130/130\n",
      "449/449 [==============================] - 180s 400ms/step - loss: 0.3551 - accuracy: 0.8728 - val_loss: 2.0496 - val_accuracy: 0.5706\n"
     ]
    }
   ],
   "source": [
    "history = model.fit(training_set, epochs=130, validation_data=test_set)\n"
   ]
  },
  {
   "cell_type": "markdown",
   "id": "f9f8edc9",
   "metadata": {},
   "source": [
    "## Saving Trained Model"
   ]
  },
  {
   "cell_type": "code",
   "execution_count": 21,
   "id": "7cec29dc",
   "metadata": {},
   "outputs": [
    {
     "name": "stderr",
     "output_type": "stream",
     "text": [
      "C:\\Users\\saija\\anaconda3\\Lib\\site-packages\\keras\\src\\engine\\training.py:3103: UserWarning: You are saving your model as an HDF5 file via `model.save()`. This file format is considered legacy. We recommend using instead the native Keras format, e.g. `model.save('my_model.keras')`.\n",
      "  saving_api.save_model(\n"
     ]
    }
   ],
   "source": [
    "model.save('ajmodel1.h5')"
   ]
  },
  {
   "cell_type": "markdown",
   "id": "2468f6f5",
   "metadata": {},
   "source": [
    "### Evaluating the model"
   ]
  },
  {
   "cell_type": "code",
   "execution_count": 22,
   "id": "ab8f36d4",
   "metadata": {},
   "outputs": [
    {
     "data": {
      "image/png": "[encoded data removed]",
      "text/plain": [
       "<Figure size 640x480 with 1 Axes>"
      ]
     },
     "metadata": {},
     "output_type": "display_data"
    }
   ],
   "source": [
    "# Plot training history\n",
    "plt.plot(history.history['accuracy'], label='train_accuracy')\n",
    "plt.plot(history.history['val_accuracy'], label='val_accuracy')\n",
    "plt.legend()\n",
    "plt.show()"
   ]
  },
  {
   "cell_type": "markdown",
   "id": "761a1a4a",
   "metadata": {},
   "source": [
    "The plot illustrates the training and validation accuracy over epochs for a Convolutional Neural Network (CNN) model trained on a music mood classification task. The training accuracy reaches approximately 0.87, indicating that the model has learned to classify mood labels from the training data with high accuracy. The validation accuracy also shows a similar trend, suggesting that the model generalizes well to unseen data. This performance level suggests that the CNN model has effectively learned relevant patterns from the input image data for mood classification."
   ]
  },
  {
   "cell_type": "code",
   "execution_count": 23,
   "id": "d90e1874",
   "metadata": {},
   "outputs": [
    {
     "data": {
      "text/plain": [
       "{'angry': 0,\n",
       " 'disgust': 1,\n",
       " 'fear': 2,\n",
       " 'happy': 3,\n",
       " 'neutral': 4,\n",
       " 'sad': 5,\n",
       " 'surprise': 6}"
      ]
     },
     "execution_count": 23,
     "metadata": {},
     "output_type": "execute_result"
    }
   ],
   "source": [
    "training_set.class_indices"
   ]
  },
  {
   "cell_type": "markdown",
   "id": "e0259614",
   "metadata": {},
   "source": [
    "## Image Mood Prediction using Trained Model"
   ]
  },
  {
   "cell_type": "code",
   "execution_count": 24,
   "id": "375a240e",
   "metadata": {},
   "outputs": [
    {
     "name": "stdout",
     "output_type": "stream",
     "text": [
      "1/1 [==============================] - 0s 125ms/step\n",
      "Predicted mood index: 6\n"
     ]
    }
   ],
   "source": [
    "model_path = \"ajmodel1.h5\"\n",
    "loaded_model = keras.models.load_model(model_path)\n",
    "\n",
    "import matplotlib.pyplot as plt\n",
    "import numpy as np\n",
    "import cv2\n",
    "from PIL import Image\n",
    "\n",
    "# Corrected file path\n",
    "image_path = r\"C:\\Users\\saija\\Downloads\\python\\project\\moodformusic\\test\\surprise\\PublicTest_7850751.jpg\"\n",
    "image = cv2.imread(image_path)\n",
    "\n",
    "image_fromarray = Image.fromarray(image, 'RGB')\n",
    "resize_image = image_fromarray.resize((128, 128))\n",
    "expand_input = np.expand_dims(resize_image, axis=0)\n",
    "input_data = np.array(expand_input)\n",
    "input_data = input_data / 255\n",
    "\n",
    "pred = loaded_model.predict(input_data)\n",
    "result = pred.argmax()\n",
    "\n",
    "print(\"Predicted mood index:\", result)\n"
   ]
  },
  {
   "cell_type": "code",
   "execution_count": 25,
   "id": "574d5a32",
   "metadata": {},
   "outputs": [],
   "source": [
    "from tensorflow.keras.models import load_model\n"
   ]
  },
  {
   "cell_type": "code",
   "execution_count": 26,
   "id": "7177de00",
   "metadata": {},
   "outputs": [],
   "source": [
    "loaded_model=load_model(\"ajmodel1.h5\")"
   ]
  },
  {
   "cell_type": "code",
   "execution_count": 27,
   "id": "030f950a",
   "metadata": {},
   "outputs": [
    {
     "name": "stdout",
     "output_type": "stream",
     "text": [
      "Model: \"sequential\"\n",
      "_________________________________________________________________\n",
      " Layer (type)                Output Shape              Param #   \n",
      "=================================================================\n",
      " conv2d (Conv2D)             (None, 126, 126, 32)      896       \n",
      "                                                                 \n",
      " max_pooling2d (MaxPooling2  (None, 63, 63, 32)        0         \n",
      " D)                                                              \n",
      "                                                                 \n",
      " conv2d_1 (Conv2D)           (None, 61, 61, 64)        18496     \n",
      "                                                                 \n",
      " max_pooling2d_1 (MaxPoolin  (None, 30, 30, 64)        0         \n",
      " g2D)                                                            \n",
      "                                                                 \n",
      " conv2d_2 (Conv2D)           (None, 28, 28, 128)       73856     \n",
      "                                                                 \n",
      " max_pooling2d_2 (MaxPoolin  (None, 14, 14, 128)       0         \n",
      " g2D)                                                            \n",
      "                                                                 \n",
      " flatten (Flatten)           (None, 25088)             0         \n",
      "                                                                 \n",
      " dense (Dense)               (None, 128)               3211392   \n",
      "                                                                 \n",
      " dense_1 (Dense)             (None, 7)                 903       \n",
      "                                                                 \n",
      "=================================================================\n",
      "Total params: 3305543 (12.61 MB)\n",
      "Trainable params: 3305543 (12.61 MB)\n",
      "Non-trainable params: 0 (0.00 Byte)\n",
      "_________________________________________________________________\n"
     ]
    }
   ],
   "source": [
    "loaded_model.summary()"
   ]
  },
  {
   "cell_type": "code",
   "execution_count": null,
   "id": "d4bd7589",
   "metadata": {},
   "outputs": [],
   "source": []
  }
 ],
 "metadata": {
  "kernelspec": {
   "display_name": "Python 3 (ipykernel)",
   "language": "python",
   "name": "python3"
  },
  "language_info": {
   "codemirror_mode": {
    "name": "ipython",
    "version": 3
   },
   "file_extension": ".py",
   "mimetype": "text/x-python",
   "name": "python",
   "nbconvert_exporter": "python",
   "pygments_lexer": "ipython3",
   "version": "3.11.4"
  }
 },
 "nbformat": 4,
 "nbformat_minor": 5
}
